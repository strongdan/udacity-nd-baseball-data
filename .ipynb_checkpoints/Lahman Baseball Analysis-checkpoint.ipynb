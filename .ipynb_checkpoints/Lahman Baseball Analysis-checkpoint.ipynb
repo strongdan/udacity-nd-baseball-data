{
 "cells": [
  {
   "cell_type": "markdown",
   "metadata": {},
   "source": [
    "### The project clearly states one or more questions, then addresses those questions in the rest of the analysis.\n",
    "1. Question\n",
    "2. Wrangle\n",
    "3. Exploration\n",
    "4. Draw Conclusions/Predictions\n",
    "5. Communicate Findings"
   ]
  },
  {
   "cell_type": "code",
   "execution_count": null,
   "metadata": {
    "scrolled": true
   },
   "outputs": [],
   "source": [
    "# import datadotworld to get baseball data\n",
    "import datadotworld as dw\n",
    "import matplotlib.pyplot as plt\n",
    "import pandas as pd\n",
    "from scipy.stats import pearsonr\n",
    "import requests, zipfile, io, os, calendar\n",
    "from datetime import datetime\n",
    "import glob\n",
    "from easymoney.money import EasyPeasy\n",
    "ep = EasyPeasy()\n",
    "\n",
    "# import baseball data from data.world so no local files are needed\n",
    "baseball_data = dw.load_dataset('natereed/lahman-baseball-data')\n",
    "\n",
    "# get a high level view of tables available\n",
    "baseball_data.describe()"
   ]
  },
  {
   "cell_type": "markdown",
   "metadata": {},
   "source": [
    "### The following cell includes an optional alternative method for accessing the data by downloading a zip file from SeanLahman.com\n",
    "* if the previous cell was successfully run, there is no need to run this cell"
   ]
  },
  {
   "cell_type": "code",
   "execution_count": 31,
   "metadata": {},
   "outputs": [
    {
     "name": "stdout",
     "output_type": "stream",
     "text": [
      "downloading zip file from http://seanlahman.com/files/database/baseballdatabank-2017.1.zip\n",
      "file downloaded to G:\\Training\\Python\\Jupyter\\lahman_baseball\\baseballdatabank-2017.1\\core\n",
      "extracting zip file to G:\\Training\\Python\\Jupyter\\lahman_baseball\\baseballdatabank-2017.1\\core\\lahman_baseball\n",
      "files extracted to G:\\Training\\Python\\Jupyter\\lahman_baseball\\baseballdatabank-2017.1\\core\\lahman_baseball\n",
      "finished processing at 9:13\n",
      " Volume in drive G is Replicate\n",
      " Volume Serial Number is 4257-063A\n",
      "\n",
      " Directory of G:\\Training\\Python\\Jupyter\\lahman_baseball\\baseballdatabank-2017.1\\core\n",
      "\n",
      "08/11/2017  09:03 AM    <DIR>          .\n",
      "08/11/2017  09:03 AM    <DIR>          ..\n",
      "08/11/2017  09:02 AM           211,477 AllstarFull.csv\n",
      "08/11/2017  09:02 AM         6,198,905 Appearances.csv\n",
      "08/11/2017  09:02 AM             8,199 AwardsManagers.csv\n",
      "08/11/2017  09:02 AM           249,797 AwardsPlayers.csv\n",
      "08/11/2017  09:02 AM            22,890 AwardsShareManagers.csv\n",
      "08/11/2017  09:02 AM           232,609 AwardsSharePlayers.csv\n",
      "08/11/2017  09:13 AM         8,877,742 baseballdatabank-2017.1.zip\n",
      "08/11/2017  09:02 AM         6,320,760 Batting.csv\n",
      "08/11/2017  09:02 AM           823,274 BattingPost.csv\n",
      "08/11/2017  09:02 AM           421,825 CollegePlaying.csv\n",
      "08/11/2017  09:03 AM         6,674,118 Fielding.csv\n",
      "08/11/2017  09:03 AM           298,472 FieldingOF.csv\n",
      "08/11/2017  09:03 AM         1,458,063 FieldingOFsplit.csv\n",
      "08/11/2017  09:03 AM           630,768 FieldingPost.csv\n",
      "08/11/2017  09:03 AM           178,023 HallOfFame.csv\n",
      "08/11/2017  09:03 AM           157,263 HomeGames.csv\n",
      "08/11/2017  09:03 AM    <DIR>          lahman_baseball\n",
      "08/11/2017  09:03 AM           132,458 Managers.csv\n",
      "08/11/2017  09:03 AM             3,568 ManagersHalf.csv\n",
      "08/11/2017  09:03 AM         2,506,242 Master.csv\n",
      "08/11/2017  09:03 AM            11,387 Parks.csv\n",
      "08/11/2017  09:03 AM         3,910,128 Pitching.csv\n",
      "08/11/2017  09:03 AM           445,338 PitchingPost.csv\n",
      "08/11/2017  09:03 AM            30,567 readme2014.txt\n",
      "08/11/2017  09:03 AM           800,642 Salaries.csv\n",
      "08/11/2017  09:03 AM            62,454 Schools.csv\n",
      "08/11/2017  09:03 AM             9,409 SeriesPost.csv\n",
      "08/11/2017  09:03 AM           555,802 Teams.csv\n",
      "08/11/2017  09:03 AM             3,359 TeamsFranchises.csv\n",
      "08/11/2017  09:03 AM             1,609 TeamsHalf.csv\n",
      "              29 File(s)     41,237,148 bytes\n",
      "               3 Dir(s)  1,457,213,763,584 bytes free\n"
     ]
    }
   ],
   "source": [
    "# dir_name = '' # set directory for zip file if different than current\n",
    "# change directories into extract directory\n",
    "# os.chdir(dir_name)\n",
    "\n",
    "# if no directory specified, zip file will go to current working directory\n",
    "dir_name = os.getcwd()\n",
    "\n",
    "url = 'http://seanlahman.com/files/database/baseballdatabank-2017.1.zip'\n",
    "\n",
    "def download_file(url):\n",
    "    print(\"downloading zip file from\", url)\n",
    "    local_filename = url.split('/')[-1]\n",
    "    r = requests.get(url, stream=True)\n",
    "    with open(local_filename, 'wb') as f:\n",
    "        for chunk in r.iter_content(chunk_size=1024): \n",
    "            if chunk: # filter out keep-alive new chunks\n",
    "                f.write(chunk)\n",
    "    print(\"file downloaded to\",dir_name)\n",
    "    return local_filename\n",
    "\n",
    "# retrieve baseball data\n",
    "download_file(url)\n",
    "\n",
    "zip_ref = zipfile.ZipFile(dir_name + '\\\\baseballdatabank-2017.1.zip', 'r')\n",
    "zip_dir = dir_name + \"\\lahman_baseball\"\n",
    "zip_ref.extractall(zip_dir)\n",
    "print(\"extracting zip file to\", zip_dir)\n",
    "zip_ref.close()\n",
    "print(\"files extracted to\",zip_dir)\n",
    "print('finished processing at', str(datetime.now().hour) + ':' + str(datetime.now().minute))\n",
    "\n",
    "# list out the files you just extracted\n",
    "os.chdir(dir_name + '\\lahman_baseball\\baseballdatabank-2017.1\\core')\n",
    "%ls"
   ]
  },
  {
   "cell_type": "markdown",
   "metadata": {},
   "source": [
    "### The project documents any changes that were made to clean the data, such as merging multiple files, handling missing values, etc.\n",
    "\n",
    "### The project investigates the stated question(s) from multiple angles. At least three variables are investigated using both single-variable (1d) and multiple-variable (2d) explorations.\n",
    "\n",
    "### The project's visualizations are varied and show multiple comparisons and trends. Relevant statistics are computed throughout the analysis when an inference is made about the data.\n",
    "\n",
    "### At least two kinds of plots should be created as part of the explorations.\n",
    "\n",
    "### The results of the analysis are presented such that any limitations are clear. The analysis does not state or imply that one change causes another based solely on a correlation.\n",
    "\n",
    "### Reasoning is provided for each analysis decision, plot, and statistical summary.\n",
    "\n",
    "### Visualizations made in the project depict the data in an appropriate manner that allows plots to be readily interpreted.\n"
   ]
  },
  {
   "cell_type": "code",
   "execution_count": 2,
   "metadata": {},
   "outputs": [
    {
     "name": "stderr",
     "output_type": "stream",
     "text": [
      "C:\\Users\\brocd8s\\AppData\\Local\\Continuum\\Anaconda3\\lib\\site-packages\\datadotworld\\models\\dataset.py:192: UserWarning: Unable to set data frame dtypes automatically using teams schema. Data types may need to be adjusted manually. Error: Integer column has NA values in column 7\n",
      "  'Error: {}'.format(resource_name, e))\n"
     ]
    },
    {
     "data": {
      "image/png": "[encoded data removed]",
      "text/plain": [
       "<matplotlib.figure.Figure at 0xa9869b0>"
      ]
     },
     "metadata": {},
     "output_type": "display_data"
    }
   ],
   "source": [
    "# set teams and salaries variable to associated dataframes\n",
    "teams = baseball_data.dataframes['teams']\n",
    "salaries = baseball_data.dataframes['salaries']\n",
    "\n",
    "# salary data only available > 1985\n",
    "teams = teams[teams['yearid'] >= 1985]\n",
    "\n",
    "# limit dataframe to relevant fields\n",
    "teams = teams[['yearid', 'teamid', 'rank', 'r', 'ra', 'g', 'w', 'h', 'bb', 'hbp', 'ab', 'sf', 'hr', '2b', '3b']]\n",
    "\n",
    "# set index to yearID and teamID\n",
    "teams = teams.set_index(['yearid', 'teamid'])\n",
    "\n",
    "# calculate annual payroll by team and label \"salary\"\n",
    "salaries_by_yearID_teamID = salaries.groupby(['yearid', 'teamid'])['salary'].sum()\n",
    "\n",
    "# add payroll data to teams df\n",
    "teams = teams.join(salaries_by_yearID_teamID)\n",
    "\n",
    "# plot salary vs wins\n",
    "plt.scatter(teams['w'], teams['salary'], marker='o', s=6 )\n",
    "plt.title('Salary vs. Wins by Team')\n",
    "#plt.legend(\"Salary (in millions)\")\n",
    "plt.show()"
   ]
  },
  {
   "cell_type": "code",
   "execution_count": 77,
   "metadata": {},
   "outputs": [
    {
     "ename": "KeyError",
     "evalue": "'ipouts'",
     "output_type": "error",
     "traceback": [
      "\u001b[0;31m---------------------------------------------------------------------------\u001b[0m",
      "\u001b[0;31mKeyError\u001b[0m                                  Traceback (most recent call last)",
      "\u001b[0;32mC:\\Users\\brocd8s\\AppData\\Local\\Continuum\\Anaconda3\\lib\\site-packages\\pandas\\core\\indexes\\base.py\u001b[0m in \u001b[0;36mget_loc\u001b[0;34m(self, key, method, tolerance)\u001b[0m\n\u001b[1;32m   2392\u001b[0m             \u001b[1;32mtry\u001b[0m\u001b[1;33m:\u001b[0m\u001b[1;33m\u001b[0m\u001b[0m\n\u001b[0;32m-> 2393\u001b[0;31m                 \u001b[1;32mreturn\u001b[0m \u001b[0mself\u001b[0m\u001b[1;33m.\u001b[0m\u001b[0m_engine\u001b[0m\u001b[1;33m.\u001b[0m\u001b[0mget_loc\u001b[0m\u001b[1;33m(\u001b[0m\u001b[0mkey\u001b[0m\u001b[1;33m)\u001b[0m\u001b[1;33m\u001b[0m\u001b[0m\n\u001b[0m\u001b[1;32m   2394\u001b[0m             \u001b[1;32mexcept\u001b[0m \u001b[0mKeyError\u001b[0m\u001b[1;33m:\u001b[0m\u001b[1;33m\u001b[0m\u001b[0m\n",
      "\u001b[0;32mpandas\\_libs\\index.pyx\u001b[0m in \u001b[0;36mpandas._libs.index.IndexEngine.get_loc (pandas\\_libs\\index.c:5239)\u001b[0;34m()\u001b[0m\n",
      "\u001b[0;32mpandas\\_libs\\index.pyx\u001b[0m in \u001b[0;36mpandas._libs.index.IndexEngine.get_loc (pandas\\_libs\\index.c:5085)\u001b[0;34m()\u001b[0m\n",
      "\u001b[0;32mpandas\\_libs\\hashtable_class_helper.pxi\u001b[0m in \u001b[0;36mpandas._libs.hashtable.PyObjectHashTable.get_item (pandas\\_libs\\hashtable.c:20405)\u001b[0;34m()\u001b[0m\n",
      "\u001b[0;32mpandas\\_libs\\hashtable_class_helper.pxi\u001b[0m in \u001b[0;36mpandas._libs.hashtable.PyObjectHashTable.get_item (pandas\\_libs\\hashtable.c:20359)\u001b[0;34m()\u001b[0m\n",
      "\u001b[0;31mKeyError\u001b[0m: 'ipouts'",
      "\nDuring handling of the above exception, another exception occurred:\n",
      "\u001b[0;31mKeyError\u001b[0m                                  Traceback (most recent call last)",
      "\u001b[0;32m<ipython-input-77-7ba9bc223c19>\u001b[0m in \u001b[0;36m<module>\u001b[0;34m()\u001b[0m\n\u001b[1;32m     12\u001b[0m \u001b[1;33m\u001b[0m\u001b[0m\n\u001b[1;32m     13\u001b[0m \u001b[1;31m# plot ipouts vs wins\u001b[0m\u001b[1;33m\u001b[0m\u001b[1;33m\u001b[0m\u001b[0m\n\u001b[0;32m---> 14\u001b[0;31m \u001b[0mplt\u001b[0m\u001b[1;33m.\u001b[0m\u001b[0mscatter\u001b[0m\u001b[1;33m(\u001b[0m\u001b[0mteams\u001b[0m\u001b[1;33m[\u001b[0m\u001b[1;34m'ipouts'\u001b[0m\u001b[1;33m]\u001b[0m\u001b[1;33m,\u001b[0m \u001b[0mteams\u001b[0m\u001b[1;33m[\u001b[0m\u001b[1;34m'w'\u001b[0m\u001b[1;33m]\u001b[0m\u001b[1;33m,\u001b[0m \u001b[0mmarker\u001b[0m\u001b[1;33m=\u001b[0m\u001b[1;34m'o'\u001b[0m\u001b[1;33m,\u001b[0m \u001b[0ms\u001b[0m\u001b[1;33m=\u001b[0m\u001b[1;36m6\u001b[0m \u001b[1;33m)\u001b[0m\u001b[1;33m\u001b[0m\u001b[0m\n\u001b[0m\u001b[1;32m     15\u001b[0m \u001b[0mplt\u001b[0m\u001b[1;33m.\u001b[0m\u001b[0mtitle\u001b[0m\u001b[1;33m(\u001b[0m\u001b[1;34m'ipouts vs. Wins by Team'\u001b[0m\u001b[1;33m)\u001b[0m\u001b[1;33m\u001b[0m\u001b[0m\n\u001b[1;32m     16\u001b[0m \u001b[1;31m#plt.legend()\u001b[0m\u001b[1;33m\u001b[0m\u001b[1;33m\u001b[0m\u001b[0m\n",
      "\u001b[0;32mC:\\Users\\brocd8s\\AppData\\Local\\Continuum\\Anaconda3\\lib\\site-packages\\pandas\\core\\frame.py\u001b[0m in \u001b[0;36m__getitem__\u001b[0;34m(self, key)\u001b[0m\n\u001b[1;32m   2060\u001b[0m             \u001b[1;32mreturn\u001b[0m \u001b[0mself\u001b[0m\u001b[1;33m.\u001b[0m\u001b[0m_getitem_multilevel\u001b[0m\u001b[1;33m(\u001b[0m\u001b[0mkey\u001b[0m\u001b[1;33m)\u001b[0m\u001b[1;33m\u001b[0m\u001b[0m\n\u001b[1;32m   2061\u001b[0m         \u001b[1;32melse\u001b[0m\u001b[1;33m:\u001b[0m\u001b[1;33m\u001b[0m\u001b[0m\n\u001b[0;32m-> 2062\u001b[0;31m             \u001b[1;32mreturn\u001b[0m \u001b[0mself\u001b[0m\u001b[1;33m.\u001b[0m\u001b[0m_getitem_column\u001b[0m\u001b[1;33m(\u001b[0m\u001b[0mkey\u001b[0m\u001b[1;33m)\u001b[0m\u001b[1;33m\u001b[0m\u001b[0m\n\u001b[0m\u001b[1;32m   2063\u001b[0m \u001b[1;33m\u001b[0m\u001b[0m\n\u001b[1;32m   2064\u001b[0m     \u001b[1;32mdef\u001b[0m \u001b[0m_getitem_column\u001b[0m\u001b[1;33m(\u001b[0m\u001b[0mself\u001b[0m\u001b[1;33m,\u001b[0m \u001b[0mkey\u001b[0m\u001b[1;33m)\u001b[0m\u001b[1;33m:\u001b[0m\u001b[1;33m\u001b[0m\u001b[0m\n",
      "\u001b[0;32mC:\\Users\\brocd8s\\AppData\\Local\\Continuum\\Anaconda3\\lib\\site-packages\\pandas\\core\\frame.py\u001b[0m in \u001b[0;36m_getitem_column\u001b[0;34m(self, key)\u001b[0m\n\u001b[1;32m   2067\u001b[0m         \u001b[1;31m# get column\u001b[0m\u001b[1;33m\u001b[0m\u001b[1;33m\u001b[0m\u001b[0m\n\u001b[1;32m   2068\u001b[0m         \u001b[1;32mif\u001b[0m \u001b[0mself\u001b[0m\u001b[1;33m.\u001b[0m\u001b[0mcolumns\u001b[0m\u001b[1;33m.\u001b[0m\u001b[0mis_unique\u001b[0m\u001b[1;33m:\u001b[0m\u001b[1;33m\u001b[0m\u001b[0m\n\u001b[0;32m-> 2069\u001b[0;31m             \u001b[1;32mreturn\u001b[0m \u001b[0mself\u001b[0m\u001b[1;33m.\u001b[0m\u001b[0m_get_item_cache\u001b[0m\u001b[1;33m(\u001b[0m\u001b[0mkey\u001b[0m\u001b[1;33m)\u001b[0m\u001b[1;33m\u001b[0m\u001b[0m\n\u001b[0m\u001b[1;32m   2070\u001b[0m \u001b[1;33m\u001b[0m\u001b[0m\n\u001b[1;32m   2071\u001b[0m         \u001b[1;31m# duplicate columns & possible reduce dimensionality\u001b[0m\u001b[1;33m\u001b[0m\u001b[1;33m\u001b[0m\u001b[0m\n",
      "\u001b[0;32mC:\\Users\\brocd8s\\AppData\\Local\\Continuum\\Anaconda3\\lib\\site-packages\\pandas\\core\\generic.py\u001b[0m in \u001b[0;36m_get_item_cache\u001b[0;34m(self, item)\u001b[0m\n\u001b[1;32m   1532\u001b[0m         \u001b[0mres\u001b[0m \u001b[1;33m=\u001b[0m \u001b[0mcache\u001b[0m\u001b[1;33m.\u001b[0m\u001b[0mget\u001b[0m\u001b[1;33m(\u001b[0m\u001b[0mitem\u001b[0m\u001b[1;33m)\u001b[0m\u001b[1;33m\u001b[0m\u001b[0m\n\u001b[1;32m   1533\u001b[0m         \u001b[1;32mif\u001b[0m \u001b[0mres\u001b[0m \u001b[1;32mis\u001b[0m \u001b[1;32mNone\u001b[0m\u001b[1;33m:\u001b[0m\u001b[1;33m\u001b[0m\u001b[0m\n\u001b[0;32m-> 1534\u001b[0;31m             \u001b[0mvalues\u001b[0m \u001b[1;33m=\u001b[0m \u001b[0mself\u001b[0m\u001b[1;33m.\u001b[0m\u001b[0m_data\u001b[0m\u001b[1;33m.\u001b[0m\u001b[0mget\u001b[0m\u001b[1;33m(\u001b[0m\u001b[0mitem\u001b[0m\u001b[1;33m)\u001b[0m\u001b[1;33m\u001b[0m\u001b[0m\n\u001b[0m\u001b[1;32m   1535\u001b[0m             \u001b[0mres\u001b[0m \u001b[1;33m=\u001b[0m \u001b[0mself\u001b[0m\u001b[1;33m.\u001b[0m\u001b[0m_box_item_values\u001b[0m\u001b[1;33m(\u001b[0m\u001b[0mitem\u001b[0m\u001b[1;33m,\u001b[0m \u001b[0mvalues\u001b[0m\u001b[1;33m)\u001b[0m\u001b[1;33m\u001b[0m\u001b[0m\n\u001b[1;32m   1536\u001b[0m             \u001b[0mcache\u001b[0m\u001b[1;33m[\u001b[0m\u001b[0mitem\u001b[0m\u001b[1;33m]\u001b[0m \u001b[1;33m=\u001b[0m \u001b[0mres\u001b[0m\u001b[1;33m\u001b[0m\u001b[0m\n",
      "\u001b[0;32mC:\\Users\\brocd8s\\AppData\\Local\\Continuum\\Anaconda3\\lib\\site-packages\\pandas\\core\\internals.py\u001b[0m in \u001b[0;36mget\u001b[0;34m(self, item, fastpath)\u001b[0m\n\u001b[1;32m   3588\u001b[0m \u001b[1;33m\u001b[0m\u001b[0m\n\u001b[1;32m   3589\u001b[0m             \u001b[1;32mif\u001b[0m \u001b[1;32mnot\u001b[0m \u001b[0misnull\u001b[0m\u001b[1;33m(\u001b[0m\u001b[0mitem\u001b[0m\u001b[1;33m)\u001b[0m\u001b[1;33m:\u001b[0m\u001b[1;33m\u001b[0m\u001b[0m\n\u001b[0;32m-> 3590\u001b[0;31m                 \u001b[0mloc\u001b[0m \u001b[1;33m=\u001b[0m \u001b[0mself\u001b[0m\u001b[1;33m.\u001b[0m\u001b[0mitems\u001b[0m\u001b[1;33m.\u001b[0m\u001b[0mget_loc\u001b[0m\u001b[1;33m(\u001b[0m\u001b[0mitem\u001b[0m\u001b[1;33m)\u001b[0m\u001b[1;33m\u001b[0m\u001b[0m\n\u001b[0m\u001b[1;32m   3591\u001b[0m             \u001b[1;32melse\u001b[0m\u001b[1;33m:\u001b[0m\u001b[1;33m\u001b[0m\u001b[0m\n\u001b[1;32m   3592\u001b[0m                 \u001b[0mindexer\u001b[0m \u001b[1;33m=\u001b[0m \u001b[0mnp\u001b[0m\u001b[1;33m.\u001b[0m\u001b[0marange\u001b[0m\u001b[1;33m(\u001b[0m\u001b[0mlen\u001b[0m\u001b[1;33m(\u001b[0m\u001b[0mself\u001b[0m\u001b[1;33m.\u001b[0m\u001b[0mitems\u001b[0m\u001b[1;33m)\u001b[0m\u001b[1;33m)\u001b[0m\u001b[1;33m[\u001b[0m\u001b[0misnull\u001b[0m\u001b[1;33m(\u001b[0m\u001b[0mself\u001b[0m\u001b[1;33m.\u001b[0m\u001b[0mitems\u001b[0m\u001b[1;33m)\u001b[0m\u001b[1;33m]\u001b[0m\u001b[1;33m\u001b[0m\u001b[0m\n",
      "\u001b[0;32mC:\\Users\\brocd8s\\AppData\\Local\\Continuum\\Anaconda3\\lib\\site-packages\\pandas\\core\\indexes\\base.py\u001b[0m in \u001b[0;36mget_loc\u001b[0;34m(self, key, method, tolerance)\u001b[0m\n\u001b[1;32m   2393\u001b[0m                 \u001b[1;32mreturn\u001b[0m \u001b[0mself\u001b[0m\u001b[1;33m.\u001b[0m\u001b[0m_engine\u001b[0m\u001b[1;33m.\u001b[0m\u001b[0mget_loc\u001b[0m\u001b[1;33m(\u001b[0m\u001b[0mkey\u001b[0m\u001b[1;33m)\u001b[0m\u001b[1;33m\u001b[0m\u001b[0m\n\u001b[1;32m   2394\u001b[0m             \u001b[1;32mexcept\u001b[0m \u001b[0mKeyError\u001b[0m\u001b[1;33m:\u001b[0m\u001b[1;33m\u001b[0m\u001b[0m\n\u001b[0;32m-> 2395\u001b[0;31m                 \u001b[1;32mreturn\u001b[0m \u001b[0mself\u001b[0m\u001b[1;33m.\u001b[0m\u001b[0m_engine\u001b[0m\u001b[1;33m.\u001b[0m\u001b[0mget_loc\u001b[0m\u001b[1;33m(\u001b[0m\u001b[0mself\u001b[0m\u001b[1;33m.\u001b[0m\u001b[0m_maybe_cast_indexer\u001b[0m\u001b[1;33m(\u001b[0m\u001b[0mkey\u001b[0m\u001b[1;33m)\u001b[0m\u001b[1;33m)\u001b[0m\u001b[1;33m\u001b[0m\u001b[0m\n\u001b[0m\u001b[1;32m   2396\u001b[0m \u001b[1;33m\u001b[0m\u001b[0m\n\u001b[1;32m   2397\u001b[0m         \u001b[0mindexer\u001b[0m \u001b[1;33m=\u001b[0m \u001b[0mself\u001b[0m\u001b[1;33m.\u001b[0m\u001b[0mget_indexer\u001b[0m\u001b[1;33m(\u001b[0m\u001b[1;33m[\u001b[0m\u001b[0mkey\u001b[0m\u001b[1;33m]\u001b[0m\u001b[1;33m,\u001b[0m \u001b[0mmethod\u001b[0m\u001b[1;33m=\u001b[0m\u001b[0mmethod\u001b[0m\u001b[1;33m,\u001b[0m \u001b[0mtolerance\u001b[0m\u001b[1;33m=\u001b[0m\u001b[0mtolerance\u001b[0m\u001b[1;33m)\u001b[0m\u001b[1;33m\u001b[0m\u001b[0m\n",
      "\u001b[0;32mpandas\\_libs\\index.pyx\u001b[0m in \u001b[0;36mpandas._libs.index.IndexEngine.get_loc (pandas\\_libs\\index.c:5239)\u001b[0;34m()\u001b[0m\n",
      "\u001b[0;32mpandas\\_libs\\index.pyx\u001b[0m in \u001b[0;36mpandas._libs.index.IndexEngine.get_loc (pandas\\_libs\\index.c:5085)\u001b[0;34m()\u001b[0m\n",
      "\u001b[0;32mpandas\\_libs\\hashtable_class_helper.pxi\u001b[0m in \u001b[0;36mpandas._libs.hashtable.PyObjectHashTable.get_item (pandas\\_libs\\hashtable.c:20405)\u001b[0;34m()\u001b[0m\n",
      "\u001b[0;32mpandas\\_libs\\hashtable_class_helper.pxi\u001b[0m in \u001b[0;36mpandas._libs.hashtable.PyObjectHashTable.get_item (pandas\\_libs\\hashtable.c:20359)\u001b[0;34m()\u001b[0m\n",
      "\u001b[0;31mKeyError\u001b[0m: 'ipouts'"
     ]
    }
   ],
   "source": [
    "pitching = baseball_data.dataframes['pitching']\n",
    "batting = baseball_data.dataframes['batting']\n",
    "fielding = baseball_data.dataframes['fielding']\n",
    "\n",
    "# calculate annual avg pitching ipouts\n",
    "pitching_by_yearID_teamID = pitching.groupby(['yearid', 'teamid'])['ipouts'].mean()\n",
    "teams = teams.join(pitching_by_yearID_teamID)\n",
    "\n",
    "# calculate annual avg rbi\n",
    "batting_by_yearID_teamID = batting.groupby(['yearid', 'teamid'])['rbi'].mean()\n",
    "teams = teams.join(batting_by_yearID_teamID)\n",
    "\n",
    "# plot ipouts vs wins\n",
    "plt.scatter(teams['ipouts'], teams['w'], marker='o', s=6 )\n",
    "plt.title('ipouts vs. Wins by Team')\n",
    "#plt.legend()\n",
    "plt.show()\n",
    "\n",
    "# plot ipouts vs wins\n",
    "plt.scatter(teams['rbi'], teams['w'], marker='o', s=6 )\n",
    "plt.title('rbi vs. Wins by Team')\n",
    "#plt.legend()\n",
    "plt.show()\n",
    "\n",
    "# plot salary vs wins\n",
    "plt.scatter(teams['w'], teams['salary'], marker='o', s=6 )\n",
    "plt.title('Salary vs. Wins by Team')\n",
    "#plt.legend(\"Salary (in millions)\")\n",
    "plt.show()"
   ]
  },
  {
   "cell_type": "code",
   "execution_count": 72,
   "metadata": {},
   "outputs": [
    {
     "data": {
      "text/plain": [
       "(0.24815495307223667, 6.2809183782457312e-14)"
      ]
     },
     "execution_count": 72,
     "metadata": {},
     "output_type": "execute_result"
    }
   ],
   "source": [
    "df_clean = teams[['ipouts', 'w']].dropna()\n",
    "pearsonr(df_clean['ipouts'], df_clean['w'])\n",
    "# correlation coefficient value 0.3294 and p-value of 6.335 x 10 ^ -24\n",
    "\n",
    "df_clean = teams[['rbi', 'w']].dropna()\n",
    "pearsonr(df_clean['rbi'], df_clean['w'])\n",
    "# correlation coefficient value of 0.2017 and p-value of 1.308 x 10 ^ -9\n",
    "\n",
    "df_clean = teams[['salary', 'w']].dropna()\n",
    "pearsonr(df_clean['salary'], df_clean['w'])\n",
    "# correlation coefficient value of 0.2481 and p-value of 6.28 x 10 ^ -14"
   ]
  },
  {
   "cell_type": "code",
   "execution_count": null,
   "metadata": {
    "collapsed": true
   },
   "outputs": [],
   "source": []
  }
 ],
 "metadata": {
  "kernelspec": {
   "display_name": "Python [default]",
   "language": "python",
   "name": "python3"
  },
  "language_info": {
   "codemirror_mode": {
    "name": "ipython",
    "version": 3
   },
   "file_extension": ".py",
   "mimetype": "text/x-python",
   "name": "python",
   "nbconvert_exporter": "python",
   "pygments_lexer": "ipython3",
   "version": "3.6.0"
  }
 },
 "nbformat": 4,
 "nbformat_minor": 2
}
