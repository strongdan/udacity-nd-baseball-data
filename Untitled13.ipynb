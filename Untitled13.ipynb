{
 "cells": [
  {
   "cell_type": "code",
   "execution_count": null,
   "metadata": {
    "collapsed": true
   },
   "outputs": [],
   "source": [
    "\n",
    "# dir_name = '' # set directory for zip file if different than current\n",
    "# change directories into extract directory\n",
    "# os.chdir(dir_name)\n",
    "\n",
    "# if no directory specified, zip file will go to current working directory\n",
    "dir_name = os.getcwd()\n",
    "\n",
    "url = 'http://seanlahman.com/files/database/baseballdatabank-2017.1.zip'\n",
    "\n",
    "def download_file(url):\n",
    "    print(\"downloading zip file from\", url)\n",
    "    local_filename = url.split('/')[-1]\n",
    "    r = requests.get(url, stream=True)\n",
    "    with open(local_filename, 'wb') as f:\n",
    "        for chunk in r.iter_content(chunk_size=1024): \n",
    "            if chunk: # filter out keep-alive new chunks\n",
    "                f.write(chunk)\n",
    "    print(\"file downloaded to\",dir_name)\n",
    "    return local_filename\n",
    "\n",
    "# retrieve baseball data\n",
    "download_file(url)\n",
    "\n",
    "zip_ref = zipfile.ZipFile(dir_name + '\\\\baseballdatabank-2017.1.zip', 'r')\n",
    "zip_dir = dir_name + \"\\lahman_baseball\"\n",
    "zip_ref.extractall(zip_dir)\n",
    "print(\"extracting zip file to\", zip_dir)\n",
    "zip_ref.close()\n",
    "print(\"files extracted to\",zip_dir)\n",
    "print('finished processing at', str(datetime.now().hour) + ':' + str(datetime.now().minute))\n",
    "\n",
    "# list out the files you just extracted\n",
    "os.chdir(dir_name + '\\lahman_baseball\\baseballdatabank-2017.1\\core')\n",
    "%ls"
   ]
  }
 ],
 "metadata": {
  "kernelspec": {
   "display_name": "Python [conda root]",
   "language": "python",
   "name": "conda-root-py"
  },
  "language_info": {
   "codemirror_mode": {
    "name": "ipython",
    "version": 3
   },
   "file_extension": ".py",
   "mimetype": "text/x-python",
   "name": "python",
   "nbconvert_exporter": "python",
   "pygments_lexer": "ipython3",
   "version": "3.6.0"
  }
 },
 "nbformat": 4,
 "nbformat_minor": 2
}
